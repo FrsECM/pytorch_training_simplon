{
 "cells": [
  {
   "cell_type": "markdown",
   "metadata": {},
   "source": [
    "# EDA MNIST\n",
    "We will create a MNIST Dataset in order to try it."
   ]
  },
  {
   "cell_type": "code",
   "execution_count": 24,
   "metadata": {},
   "outputs": [
    {
     "name": "stdout",
     "output_type": "stream",
     "text": [
      "The autoreload extension is already loaded. To reload it, use:\n",
      "  %reload_ext autoreload\n",
      "Indexing split train\n"
     ]
    },
    {
     "name": "stderr",
     "output_type": "stream",
     "text": [
      "  2%|▏         | 100/5923 [00:00<00:36, 160.28it/s]\n",
      "  1%|▏         | 100/6742 [00:00<00:43, 152.27it/s]\n",
      "  2%|▏         | 100/5958 [00:00<00:21, 269.18it/s]\n",
      "  2%|▏         | 100/6131 [00:00<00:34, 173.30it/s]\n",
      "  2%|▏         | 100/5842 [00:00<00:30, 188.27it/s]\n",
      "  2%|▏         | 100/5421 [00:00<00:25, 208.57it/s]\n",
      "  2%|▏         | 100/5918 [00:00<00:23, 251.35it/s]\n",
      "  2%|▏         | 100/6265 [00:00<00:33, 185.83it/s]\n",
      "  2%|▏         | 100/5851 [00:00<00:27, 207.22it/s]\n",
      "  2%|▏         | 100/5949 [00:00<00:26, 222.91it/s]\n"
     ]
    },
    {
     "name": "stdout",
     "output_type": "stream",
     "text": [
      "Indexing split test\n"
     ]
    },
    {
     "name": "stderr",
     "output_type": "stream",
     "text": [
      " 10%|█         | 100/980 [00:00<00:03, 232.08it/s]\n",
      "  9%|▉         | 100/1135 [00:00<00:04, 240.53it/s]\n",
      " 10%|▉         | 100/1032 [00:00<00:04, 229.23it/s]\n",
      " 10%|▉         | 100/1010 [00:00<00:04, 224.13it/s]\n",
      " 10%|█         | 100/982 [00:00<00:03, 225.66it/s]\n",
      " 11%|█         | 100/892 [00:00<00:03, 217.61it/s]\n",
      " 10%|█         | 100/958 [00:00<00:05, 155.35it/s]\n",
      " 10%|▉         | 100/1028 [00:00<00:04, 207.10it/s]\n",
      " 10%|█         | 100/974 [00:00<00:04, 201.83it/s]\n",
      " 10%|▉         | 100/1009 [00:00<00:05, 156.71it/s]\n"
     ]
    }
   ],
   "source": [
    "%load_ext autoreload\n",
    "%autoreload 2\n",
    "import sys\n",
    "sys.path.insert(0,'../')\n",
    "from src.classification import ClassificationDataset\n",
    "\n",
    "mnist_path = \"/mnt/c/BUSDATA/Datasets/MNIST/flat/\"\n",
    "\n",
    "cls_dataset = ClassificationDataset(mnist_path)\n",
    "\n"
   ]
  },
  {
   "cell_type": "code",
   "execution_count": 22,
   "metadata": {},
   "outputs": [
    {
     "data": {
      "text/plain": [
       "1000"
      ]
     },
     "execution_count": 22,
     "metadata": {},
     "output_type": "execute_result"
    }
   ],
   "source": [
    "len(cls_dataset)"
   ]
  },
  {
   "cell_type": "code",
   "execution_count": null,
   "metadata": {},
   "outputs": [],
   "source": []
  }
 ],
 "metadata": {
  "kernelspec": {
   "display_name": "torch_training",
   "language": "python",
   "name": "python3"
  },
  "language_info": {
   "codemirror_mode": {
    "name": "ipython",
    "version": 3
   },
   "file_extension": ".py",
   "mimetype": "text/x-python",
   "name": "python",
   "nbconvert_exporter": "python",
   "pygments_lexer": "ipython3",
   "version": "3.8.18"
  }
 },
 "nbformat": 4,
 "nbformat_minor": 2
}
