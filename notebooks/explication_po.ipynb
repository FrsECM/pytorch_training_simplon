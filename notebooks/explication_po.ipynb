{
 "cells": [
  {
   "cell_type": "code",
   "execution_count": 1,
   "metadata": {},
   "outputs": [],
   "source": [
    "class Animal:\n",
    "    def __init__(self,weight:int=10) -> None:\n",
    "        self.weight=weight\n",
    "        \n",
    "class Mamifere:\n",
    "    def __init__(self,mamelles:int=2) -> None:\n",
    "        self.mamelles=mamelles\n",
    "\n",
    "class Chat(Animal,Mamifere):\n",
    "    def __init__(self, weight: int = 10,mamelles:int=2,bruit:str='Miaou') -> None:\n",
    "        Mamifere.__init__(self,mamelles)\n",
    "        Animal.__init__(self,weight)\n",
    "        self.bruit = bruit\n",
    "\n",
    "class Chien(Animal):\n",
    "    def __init__(self, weight: int = 10,bruit:str='Ouaff') -> None:\n",
    "        super().__init__(weight)\n",
    "        self.bruit=bruit\n",
    "\n"
   ]
  },
  {
   "cell_type": "code",
   "execution_count": null,
   "metadata": {},
   "outputs": [],
   "source": [
    "Chat(10,)"
   ]
  }
 ],
 "metadata": {
  "kernelspec": {
   "display_name": "torch_training",
   "language": "python",
   "name": "python3"
  },
  "language_info": {
   "codemirror_mode": {
    "name": "ipython",
    "version": 3
   },
   "file_extension": ".py",
   "mimetype": "text/x-python",
   "name": "python",
   "nbconvert_exporter": "python",
   "pygments_lexer": "ipython3",
   "version": "3.8.18"
  }
 },
 "nbformat": 4,
 "nbformat_minor": 2
}
